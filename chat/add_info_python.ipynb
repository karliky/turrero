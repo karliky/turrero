{
 "cells": [
  {
   "cell_type": "markdown",
   "metadata": {},
   "source": [
    "# Meter los datos en la base de datos\n",
    "\n",
    "Puedes ejecutar este notebook desde la linea de comandos con:\n",
    "\n",
    "```bash\n",
    "papermill --cwd ./chat -k python3 --no-log-output chat/add_info_python.ipynb /tmp/output.log.json\n",
    "```"
   ]
  },
  {
   "cell_type": "code",
   "execution_count": 10,
   "metadata": {
    "execution": {
     "iopub.execute_input": "2024-06-26T10:51:36.556160Z",
     "iopub.status.busy": "2024-06-26T10:51:36.556024Z",
     "iopub.status.idle": "2024-06-26T10:51:37.729055Z",
     "shell.execute_reply": "2024-06-26T10:51:37.728354Z"
    }
   },
   "outputs": [
    {
     "name": "stdout",
     "output_type": "stream",
     "text": [
      "Inicializando chromadb\n"
     ]
    }
   ],
   "source": [
    "import os\n",
    "from tqdm.notebook import tqdm\n",
    "import more_itertools\n",
    "import chromadb\n",
    "import chromadb.utils.embedding_functions as embedding_functions\n",
    "\n",
    "print(f\"Inicializando chromadb\")\n",
    "NUM_CHUNKS = 7\n",
    "MODEL = \"llama3\"\n",
    "\n",
    "chroma_client = chromadb.PersistentClient(path='db') # current folder\n",
    "llama3_embedding_function = embedding_functions.OllamaEmbeddingFunction(\n",
    "    url=\"http://localhost:11434/api/embeddings\", # ollama running in the background\n",
    "    model_name=MODEL,\n",
    ")\n",
    "\n",
    "collection_glossary = chroma_client.get_or_create_collection(name=\"glossary\",\n",
    "                                                      embedding_function=llama3_embedding_function)\n",
    "collection_turras = chroma_client.get_or_create_collection(name=\"turras\",\n",
    "                                                    embedding_function=llama3_embedding_function)\n"
   ]
  },
  {
   "cell_type": "markdown",
   "metadata": {},
   "source": []
  },
  {
   "cell_type": "markdown",
   "metadata": {},
   "source": [
    "# Meter términos de glosario\n"
   ]
  },
  {
   "cell_type": "code",
   "execution_count": 2,
   "metadata": {
    "execution": {
     "iopub.execute_input": "2024-06-26T10:51:37.760307Z",
     "iopub.status.busy": "2024-06-26T10:51:37.759995Z",
     "iopub.status.idle": "2024-06-26T10:51:37.768189Z",
     "shell.execute_reply": "2024-06-26T10:51:37.767723Z"
    }
   },
   "outputs": [
    {
     "name": "stdout",
     "output_type": "stream",
     "text": [
      "Glosario loader\n"
     ]
    },
    {
     "data": {
      "application/vnd.jupyter.widget-view+json": {
       "model_id": "a3f2c73dae7143ea9e5eb9c46544d138",
       "version_major": 2,
       "version_minor": 0
      },
      "text/plain": [
       "  0%|          | 0/9 [00:00<?, ?it/s]"
      ]
     },
     "metadata": {},
     "output_type": "display_data"
    }
   ],
   "source": [
    "import csv\n",
    "print(\"Glosario loader\")\n",
    "def glosario():\n",
    "    file_path = os.path.join(os.getcwd(), '..', 'db', 'glosario.csv')\n",
    "    \n",
    "    with open(file_path, mode='r', newline='', encoding='utf-8') as csvfile:\n",
    "        reader = csv.DictReader(csvfile, fieldnames=['word', 'definition', 'sources'], delimiter=',', quotechar='\"')\n",
    "        next(reader) # header\n",
    "        for row in reader:\n",
    "            yield {\n",
    "                'word': row['word'],\n",
    "                'definition': row['definition'],\n",
    "                'sources': row['sources'] or ''\n",
    "            }\n",
    "\n",
    "glos_documents = []\n",
    "glos_ids = []\n",
    "\n",
    "for item in glosario():\n",
    "    glos_documents.append(f\"{item['word']}: {item['definition']}\")\n",
    "    glos_ids.append(item['word'])\n",
    "    \n",
    "ids=list(more_itertools.chunked(glos_documents, NUM_CHUNKS))\n",
    "docs=list(more_itertools.chunked(glos_ids, NUM_CHUNKS))\n",
    "for ids, docs in tqdm(list(zip(ids, docs))):\n",
    "    collection_glossary.upsert(documents=glos_documents, ids=glos_ids)"
   ]
  },
  {
   "cell_type": "markdown",
   "metadata": {},
   "source": [
    "## Meter las turras"
   ]
  },
  {
   "cell_type": "code",
   "execution_count": 3,
   "metadata": {
    "execution": {
     "iopub.execute_input": "2024-06-26T10:51:37.989360Z",
     "iopub.status.busy": "2024-06-26T10:51:37.989164Z",
     "iopub.status.idle": "2024-06-26T10:51:37.993585Z",
     "shell.execute_reply": "2024-06-26T10:51:37.992911Z"
    }
   },
   "outputs": [
    {
     "name": "stdout",
     "output_type": "stream",
     "text": [
      "Turra loader\n"
     ]
    },
    {
     "name": "stderr",
     "output_type": "stream",
     "text": [
      "100%|██████████| 27/27 [1:08:36<00:00, 152.47s/it]\n"
     ]
    }
   ],
   "source": [
    "import json\n",
    "from pprint import pprint\n",
    "import os\n",
    "from tqdm import tqdm\n",
    "\n",
    "print(f\"Turra loader\")\n",
    "NUM_CHUNKS = 7\n",
    "\n",
    "def turras():\n",
    "    urls = []\n",
    "    completas = []\n",
    "\n",
    "    with open(os.path.join(os.getcwd(), '..', 'db', 'tweets.json'), mode='r', encoding='utf-8') as jsonfile:\n",
    "        turras = json.load(jsonfile)\n",
    "        for turra in turras:\n",
    "            try:\n",
    "                i = str(turra[0]['id'])\n",
    "                urls.append(\"https://turrero.vercel.app/turra/\" + i)\n",
    "                completas.append('\\n'.join(tuit[\"tweet\"] for tuit in turra))\n",
    "            except Exception as e:\n",
    "                pprint(turra)\n",
    "                raise e\n",
    "    assert len(urls) == len(completas), \"Bug: no hay la misma cantidad de urls y turras\"\n",
    "    return (urls, completas)\n",
    "\n",
    "# Partirlo en cachos para poder ver la barrita llenarse, pues tarda mucho\n",
    "urls_list, turras_list = turras()\n",
    "\n",
    "urls_chunks = list(more_itertools.chunked(urls_list, NUM_CHUNKS))\n",
    "turras_chunks = list(more_itertools.chunked(turras_list, NUM_CHUNKS))\n",
    "batched = list(zip(urls_chunks, turras_chunks))\n",
    "\n",
    "for ids, docs in tqdm(batched):\n",
    "    collection_turras.upsert(\n",
    "        documents=docs,\n",
    "        ids=ids\n",
    "    )"
   ]
  },
  {
   "cell_type": "markdown",
   "metadata": {},
   "source": [
    "# Ejemplo de Query"
   ]
  },
  {
   "cell_type": "code",
   "execution_count": 53,
   "metadata": {},
   "outputs": [
    {
     "data": {
      "text/plain": [
       "{'ids': [['https://turrero.vercel.app/turra/967390304260239360',\n",
       "   'https://turrero.vercel.app/turra/1801852274232218084',\n",
       "   'https://turrero.vercel.app/turra/1297462657503694848']],\n",
       " 'distances': [[15741.848967303671, 17606.33867662567, 17747.184963512907]],\n",
       " 'metadatas': [[None, None, None]],\n",
       " 'embeddings': None,\n",
       " 'documents': [['Hilo imprescindible sobre que es lo que importa en una startup de verdad. Propuesta de valor Customer centric y narrativa identificable.',\n",
       "   'En el hilo turras de hoy, y continuando con la serie de sensemaking, hablaremos de una de las tareas de Hércules: Hacer cambiar a alguien de opinión.\\nEl meme “Change My Mind” se originó a partir de una fotografía del podcaster conservador estadounidense-canadiense Steven Crowder.\\nEn el aparece sentado detrás de una mesa con un cartel que decía “Male Privilege is a myth / Change My Mind” (El privilegio masculino es un mito / Hazme cambiar de opinión) fuera de la Universidad Cristiana de Texas.\\nCrowder publicó la imagen original en su cuenta de Twitter en febrero de 2018, con el objetivo de invitar a las personas a debatir con él sobre temas controvertidos.\\nDesde su publicación, la fotografía se ha convertido en una plantilla explotable para parodias en línea. La gente comenzó a editar el cartel con diferentes textos, creando variaciones del meme para expresar opiniones o desafiar creencias populares de manera humorística.\\nEl meme se ha viralizado en diferentes países y ha sido utilizado en una amplia gama de contextos, lo que demuestra su versatilidad y popularidad en la cultura de internet.\\nCambiar la opinión a alguien es una de las tareas más hercúleas que existen. Y es inaudita la cantidad de ciclos de reloj que se pierden en intentar corregir a la gente sin entender las inmensas resistencias involucradas.\\nCambiar la opinión de alguien es extremadamente complicado debido a varios factores psicológicos y cognitivos.\\nUno de los principales obstáculos es el sesgo de confirmación, que es la tendencia a favorecer información que confirma nuestras creencias preexistentes y a ignorar o desvalorizar la información que las contradice.\\nHablamos ya del tema aquí en profundidad:\\nAdemás, las personas a menudo tienen una inversión emocional en sus creencias, lo que hace que cambiar de opinión se sienta como una pérdida o una amenaza a su identidad.\\nHablamos ya del tema aquí:\\nOtro factor es el efecto de retroceso (backfire effect), donde la presentación de evidencia contraria puede hacer que una persona se aferre aún más fuertemente a sus creencias originales.\\nHablamos ya del tema aquí:\\nTambién, las creencias están a menudo vinculadas con la pertenencia a un grupo social, y cambiar de opinión podría significar alejarse de la comunidad con la que uno se identifica.\\nY hablamos ya del tema aquí:\\nHay un ejemplo de este tipo de procesos llevados de manera efectiva que a mi me gusta mucho, que es el proceso de caída del caballo de ex-nazis.\\nEncontrar ejemplos específicos de personas que hayan abandonado el nazismo de manera voluntaria puede ser complicado, no se suele hacer públicamente por inversión de ego, temor a represalias o vergüenza.\\nSin embargo, hay casos documentados de individuos que, tras reflexionar sobre las atrocidades cometidas y la ideología detrás del nazismo, decidieron rechazarlo y cambiar su vida.\\nUno de los procesos mentales comunes en estas personas es la realización del daño causado por sus acciones y la ideología que seguían. Esto a menudo viene acompañado de un profundo arrepentimiento y la necesidad de reparar de alguna manera el daño hecho.\\nAlgunos encuentran en la educación y el aprendizaje sobre otras culturas y perspectivas una forma de abrir su mente y corazón a la diversidad y la humanidad.\\nOtro factor importante es el encuentro con las víctimas o sus historias. Escuchar de primera mano las experiencias de aquellos que sufrieron bajo el régimen nazi puede ser un punto de inflexión para muchos, llevándolos a cuestionar y finalmente abandonar sus creencias anteriores.\\nLa introspección y el cuestionamiento personal también juegan un papel crucial. Algunos pueden comenzar a ver las contradicciones en la ideología nazi y cómo esta choca con sus propios valores morales fundamentales, lo que les lleva a una transformación personal.\\nEs importante destacar que el proceso de abandonar una ideología tan arraigada como el nazismo es complejo y multifacético, y puede variar significativamente de una persona a otra.\\nLa voluntad de cambiar y la búsqueda de redención son elementos clave en este viaje hacia la desvinculación de creencias extremistas.\\nLa madre que me matriculó en Informática gráfica. Turra limit hits. Vamos a ver como cerramos y resumimos todo el carnaval.\\nNosotros en @singularsolving no hacemos acción comercial. Lo hemos mencionado en múltiples ocasiones. No porque haya un mercado de tremenda demanda, es porque nadie se reconoce como necesitado de nuestros servicios.\\nEs prácticamente imposible convencer a nadie de nada, particularmente si tiene involucrado inversión de ego, decisiones históricas, payload emocional.... Necesitamos gente que ya haya iniciado el proceso por si misma.\\nUna de las primeras cosas que hacemos con nuestros clientes es compartir nuestro sensemaking con ellos. Estamos abiertos a asumir que igual disentimos en detalles, pero no podemos sobrevivir a una percepción radicalmente distinta de la realidad.\\nHemos hablado ya en muchas ocasiones de lo estéril que es llevar a la gente a los pies de las letras del letrero de Hollywood intentando que vean lo obvio.\\nTambién hemos hablado de lo complicado que es ya no hacer cambiar de opinión, sino simplemente persuadir:\\nHay un proceso tremendo a seguir para cambiar de opinión Introspección Personal -> Influencia de las Experiencias -> Apertura al Cambio ->Reconocimiento de Prejuicios que está solamente al alcance de los muy cafeteros.\\nPorque, paradójicamente, solo los muy seguros de uno mismo o los muy débiles son permeables al cambio de opinión.\\nCambiar de opinión de manera genuina es una de las mayores demostraciones de asertividad y poderío que uno se pueda imaginar.\\nEs tremendamente desafiante superar ese momento crítico en el que eres consciente de que te han pasado el balano por la cara. Es un asalto frontal a tu autoestima, tu cosmovisión y si me apuras a tu propia identidad.\\nEsto es un escenario realista de lo que te pasa por la cabeza cuando cambias de opinión sobre temas identitarios:\\nPista: Lo del audaz no son cambios de opinión, tiene otro nombre y está perfectamente recogido en el DRAE y en el código penal.\\nCon lo que curiosamente, solo los extraordinariamente débiles y las personas excepcionales están abiertas realmente a que les abran los ojos y cambiar de opinión.\\nAl final va a ser cierto todo lo que plantea el midwit meme. #finhilo\\nP.D. I: Hemos recomendado cien libros ya sobre el tema (Kahneman, Festinger...) vamos con unos cuantos no tan conocidos:\\nP.D. II : Este es fascinante por pura liminalidad:\\nP.D: III: Todo proceso de cambio de opinión comienza con un viaje interior. Un buen libro sobre el tema:\\nP.D. IV: Warren tiene todas las respuestas:',\n",
       "   'Hoy, en otro de esos hilos en un día estúpido a una hora estúpida que tanto le gustan a @jlantunez,   Voy a hablar de mi relación con el Design Thinking. El título es “ por que decimos cordero con patatas y no patatas con cordero “ #AbroHilo\\nEl McGuffin es este artículo que me vino vía @Joan_Sarda . Pero el caso real lo llevo arrastrando desde hace mucho tiempo, como el sabe. Y me ha causado muchos encontronazos.\\nComo la mayoría de vosotros sabéis, yo me dedico, entre otras cosas, a reformular propuestas de valor de negocio que han perdido su vigencia. Y como comentaba en mi hilo anterior, no solemos ser particularmente bien recibidos.\\nLa parte de “ entre otras cosas “ es extremadamente importante, porque una cosa que he constatado es que es imposible postularte como especialista en resolución de problemas complejos sin ser un generalista de amplio espectro.\\nNo un divulgador, sino alguien que domine dos o tres especialidades complejas en profundidad. Ese comodín en el grupo musical que sabe tocar tres o cuatro instrumentos musicales diferentes con solvencia.\\nEso que, básicamente, es un requisito para estudiar dirección orquestal. A lo mejor otro día habló sobre orquestación en detalle, pero para los curiosos, éste post para abrir boca.\\nVolvamos al hilo.\\nMi punto general es que en la última década nos hemos equivocado poniendo al diseño en el centro de la foto, porque nos hemos creído una narrativa mágica que viene envuelta en otra narrativa mágica: la de la gente de Ideo y la de Apple.\\nLa narrativa mágica de Ideo era que tú podías alterar una propuesta de valor de negocio a través del diseño, y la narrativa mágica de Apple era que realmente lo que les dio éxito fue Ideo y su capacidad de llevar el diseño tecnológico y la Ux a las masas.\\nAl calor de todo esto y con la legitimación intelectual de la gente de Stanford, nace el Design Thinking. Que ha estado dominando con puño de hierro durante algo más que una década campos en los que debió ser guarnición y no plato fuerte.\\nDisclaimer: me gustan las patatas, me gustan los timbales, me gusta el cowbell, me gustan los arándanos y en general me gustan toda las cosas que dan color y hacen de las guarniciones y los arreglos una cosa interesante.\\nEl problema es que, volviendo a la metáfora de la música, los productores de ahora saben que usar Protools es una herramienta que ha solucionado casi mágicamente muchos de los problemas históricos relacionados con la producción.\\nPero que si no tienes canción, no tienes nada. Y puedes añadirle capas y capas de efectos y capas y capas de producción y samples, y mil cosas más, que si no tienes canción, no tienes nada.\\nY que una canción se puede hacer con tres acordes y una guitarra vieja, como Bob Dylan puede atestiguar. Y qué lo que necesita realmente una canción es conectar con un sentimiento no capturado hasta ahora o nuevo y vigente ahora debido al zeitgeist.\\nLa industria del gambling, por ejemplo, que me conozco bien gracias a @ISABELSAEZ2, es un ejemplo claro de ésto.\\nLo único que llevan haciendo es hacer muebles cada vez más altos con neones cada vez más brillantes. La propuesta básica de las máquinas slot no ha cambiado en 40 años. La edad media del jugador de slots en Estados Unidos es de 62 años.\\nA todos los niveles, se ha producido un “aggiornamiento”. Se ha introducido tecnología, se han introducido imágenes e IP espectacular, se ha introducido un completo revamping de la capa exterior. En cuanto rascas un poco, es la canción de siempre. Que empieza a oler.\\nTampoco quiero llevar la discusión a la esencia de la existencia del Design Thinking, sino a como se ha implementado y usado como excusa/ariete.\\nMe pasa lo mismo con Marx, Nietzsche, Agile, Lean Startup, el Cristianismo y el Islam. El ideal perfecto abstracto se suele manchar a la hora de implementarlo.\\nHay un concepto en resolución de problemas complejos que es crítico, que es la liminalidad.\\nLa liminalidad viene a ser todo lo que ocurre cuando nos acercamos a una teórica frontera. A mí me gusta aplicarla en muchas circunstancias, pero en particular a cómo se origina la innovación.\\nHay varios libros que defienden que la innovación se produce cuando artes lo suficientemente maduros entran en fricción entre ellos y se produce exactamente en las zonas fronterizas, en plena liminalidad.\\nMi línea de pensamiento es que Jobs encarnó la fricción liminar entre el diseño y la tecnología, que hasta entonces habían ido completamente separados. Algo parecido ocurre actualmente con gente como Zittrain.\\nRecordemos, el ingeniero de verdad era Wozniak. El contacto que había tenido Jobs con el diseño y demás era casi de aficionado y esteta. Era necesario crear una fricción liminar.\\nAcercándonos un poco más, en la creación del iPod, los reproductores MP3 ya existían y los componentes electrónicos necesarios estaban encima de la mesa disponibles para todos.\\nEl problema es que hay muy pocas personas que sean capaces de crear valor en un entorno de liminalidad. La mayor parte de la gente es experto en algún tema determinado y en una trinchera concreta. De hecho, normalmente, sus años le ha costado llegar allí.\\nJobs apenas tenía formación académica, pero se manejaba bien en un entorno de ingenieros sin ser ingeniero. El campo era lo suficientemente joven como para no demandar unos requisitos particularmente exigentes.\\n\\nJobs es producto de su tiempo e irrepetible en otro.\\nMi problema histórico con el Design Thinking es que algunos practitioners no han entendido que solo tiene sentido en un entorno de liminalidad y cuando viene acompañado de otra serie de disciplinas.\\nEl autor del artículo se pregunta cuántas diseñadores han estudiado un MBA. Y tiene razón, el problema es que no se da cuenta de que lo que ha empujado a la gente al diseño muchas veces es lo que le ha repelido del MBA.\\nY mi problema con el Design Thinking, es que mucha gente no se han dado cuenta de que son un clarinete que necesitan están incrustados en una orquesta mucho más amplia, con un director que se ocupe de muchas más cosas.\\nNosotros hemos tenido clientes cuya compañía está completamente tomada por la gente de Design Thinking, por unas circunstancias o por otras.\\nY normalmente su aplicación, sus logos, sus procesos de cliente, están perfectamente cuidados, y su propuesta de valor suele ser dudosa. Y su cuenta de resultados lo refleja.\\nAsí que, por ponerle una cosa al hilo, que podía alargar mucho más, me limitaré decir que el cordero es cordero, las patatas son patatas, y la albahaca, albahaca. Y un plato maestro necesita de un cocinero liminal que lo entienda. #finhilo\\nCODA: Esto de malinterpretar a la gente tampoco es nuevo. He mencionado a Nietzsche, y me recuerda siempre esta maravillosa página de Action philosophers:']],\n",
       " 'uris': None,\n",
       " 'data': None,\n",
       " 'included': ['metadatas', 'documents', 'distances']}"
      ]
     },
     "execution_count": 53,
     "metadata": {},
     "output_type": "execute_result"
    }
   ],
   "source": [
    "turras = collection_turras.query(query_texts=[\"¿qué es la estrategia?\"], n_results=3)\n",
    "turras"
   ]
  },
  {
   "cell_type": "code",
   "execution_count": 52,
   "metadata": {},
   "outputs": [
    {
     "data": {
      "text/plain": [
       "{'ids': [['Sensemaking',\n",
       "   'Suerte preparada',\n",
       "   'Suerte buscada',\n",
       "   'Cinco Porqués (5 Whys)',\n",
       "   'Business Acumen']],\n",
       " 'distances': [[12452.928302049551,\n",
       "   12562.02687845355,\n",
       "   14036.732288106916,\n",
       "   14227.070883154713,\n",
       "   14289.630540898685]],\n",
       " 'metadatas': [[None, None, None, None, None]],\n",
       " 'embeddings': None,\n",
       " 'documents': [['Sensemaking: Interpretar y entender situaciones complejas o inciertas para tomar decisiones.',\n",
       "   'Suerte preparada: Aprovechar oportunidades gracias a la preparación previa.',\n",
       "   'Suerte buscada: Actuar proactivamente para crear oportunidades de éxito.',\n",
       "   'Cinco Porqués (5 Whys): desentrañar la cadena de causas que llevan a un problema específico.',\n",
       "   'Business Acumen: Uno de los 4 pilares del CPS: conocimiento e intuición para los negocios, normalmente combinación de intuición, experiencia y conocimiento cristalizado (ej. conocimiento académico).']],\n",
       " 'uris': None,\n",
       " 'data': None,\n",
       " 'included': ['metadatas', 'documents', 'distances']}"
      ]
     },
     "execution_count": 52,
     "metadata": {},
     "output_type": "execute_result"
    }
   ],
   "source": [
    "definiciones = collection_glossary.query(query_texts=[\"¿qué es la estrategia?\"], n_results=5)\n",
    "definiciones"
   ]
  },
  {
   "cell_type": "code",
   "execution_count": 11,
   "metadata": {},
   "outputs": [
    {
     "name": "stdout",
     "output_type": "stream",
     "text": [
      "La estrategia es un plan o conjunto de acciones que se diseña y ejecuta para alcanzar objetivos específicos, superar desafíos o mejorar situaciones. En general, una estrategia implica una serie de decisiones y acciones coordinadas que se toman con el fin de lograr un objetivo particular.\n",
      "\n",
      "La estrategia puede ser aplicada en diferentes áreas, como la empresa, la política, la educación, la salud, etc. En el contexto empresarial, una estrategia es un plan detallado para alcanzar objetivos comerciales y competitividad, que se basa en analizar las fortalezas, debilidades, oportunidades y amenazas (análisis FODA) de la empresa.\n",
      "\n",
      "Las características generales de una buena estrategia son:\n",
      "\n",
      "1. Claridad: La estrategia debe ser clara y fácilmente entendible para todos los involucrados.\n",
      "2. Realismo: La estrategia debe ser realista y factible de implementar.\n",
      "3. Priorización: La estrategia debe priorizar los objetivos más importantes y enfocarse en las acciones que más impacto tendrán.\n",
      "4. Flexibilidad: La estrategia debe ser flexible y capaz de adaptarse a cambios en el entorno o circunstancias imprevistas.\n",
      "5. Monitoreo y evaluación: La estrategia debe incluir un sistema de monitoreo y evaluación para medir el progreso y ajustar la estrategia según sea necesario.\n",
      "\n",
      "Algunos ejemplos de estrategias en diferentes áreas son:\n",
      "\n",
      "* En educación, una estrategia puede ser un plan para mejorar los resultados académicos de un grupo determinado de estudiantes.\n",
      "* En política, una estrategia puede ser un plan para ganar elecciones o implementar políticas públicas efectivas.\n",
      "* En la empresa, una estrategia puede ser un plan para expandir negocios, reducir costos o mejorar la competitividad.\n",
      "\n",
      "En resumen, la estrategia es un plan o conjunto de acciones que se diseña y ejecuta para alcanzar objetivos específicos, superar desafíos o mejorar situaciones."
     ]
    }
   ],
   "source": [
    "import ollama\n",
    "\n",
    "\n",
    "\n",
    "stream = ollama.chat(\n",
    "    model=MODEL,\n",
    "    messages=[{'role': 'user', 'content': '¿qué es la estrategia?'}],\n",
    "    stream=True,\n",
    ")\n",
    "\n",
    "\n",
    "for chunk in stream:\n",
    "  print(chunk['message']['content'], end='', flush=True)"
   ]
  },
  {
   "cell_type": "markdown",
   "metadata": {},
   "source": []
  },
  {
   "cell_type": "code",
   "execution_count": 3,
   "metadata": {},
   "outputs": [],
   "source": [
    "prompt = \"\"\"\n",
    "\n",
    "Sigue las siguientes instrucciones. Eres un asistente para tareas de tipo 'pregunta y respuesta', solo puedes dar respuestas cortas de máximo un párrafo. Utiliza la información del contexto para crer una respuesta corta, breve y en registro oral, pero no te alargues ni incluyas toda la información del contexto si no es necesario.\n",
    "\n",
    "Pregunta del usuario: {question} \n",
    "Contexto de la conversación: {context} \n",
    "Respuesta (en su mismo idioma):\n",
    "\"\"\""
   ]
  },
  {
   "cell_type": "code",
   "execution_count": 2,
   "metadata": {},
   "outputs": [
    {
     "ename": "NameError",
     "evalue": "name 'definiciones' is not defined",
     "output_type": "error",
     "traceback": [
      "\u001b[0;31m---------------------------------------------------------------------------\u001b[0m",
      "\u001b[0;31mNameError\u001b[0m                                 Traceback (most recent call last)",
      "Cell \u001b[0;32mIn[2], line 2\u001b[0m\n\u001b[1;32m      1\u001b[0m question \u001b[38;5;241m=\u001b[39m \u001b[38;5;124m'\u001b[39m\u001b[38;5;124m¿qué es la estrategia?\u001b[39m\u001b[38;5;124m'\u001b[39m\n\u001b[0;32m----> 2\u001b[0m context \u001b[38;5;241m=\u001b[39m \u001b[38;5;124m'\u001b[39m\u001b[38;5;130;01m\\n\u001b[39;00m\u001b[38;5;124m'\u001b[39m\u001b[38;5;241m.\u001b[39mjoin(\u001b[43mdefiniciones\u001b[49m[\u001b[38;5;124m'\u001b[39m\u001b[38;5;124mdocuments\u001b[39m\u001b[38;5;124m'\u001b[39m][\u001b[38;5;241m0\u001b[39m] \u001b[38;5;241m+\u001b[39m turras[\u001b[38;5;124m'\u001b[39m\u001b[38;5;124mdocuments\u001b[39m\u001b[38;5;124m'\u001b[39m][\u001b[38;5;241m0\u001b[39m])\n\u001b[1;32m      3\u001b[0m full_prompt \u001b[38;5;241m=\u001b[39m prompt\u001b[38;5;241m.\u001b[39mformat(question\u001b[38;5;241m=\u001b[39mquestion, context\u001b[38;5;241m=\u001b[39mcontext)\n\u001b[1;32m      4\u001b[0m \u001b[38;5;28mlen\u001b[39m(full_prompt)\n",
      "\u001b[0;31mNameError\u001b[0m: name 'definiciones' is not defined"
     ]
    }
   ],
   "source": [
    "question = '¿qué es la estrategia?'\n",
    "context = '\\n'.join(definiciones['documents'][0] + turras['documents'][0])\n",
    "full_prompt = prompt.format(question=question, context=context)\n",
    "len(full_prompt)\n",
    "\n",
    "full_prompt"
   ]
  },
  {
   "cell_type": "code",
   "execution_count": 56,
   "metadata": {},
   "outputs": [
    {
     "name": "stdout",
     "output_type": "stream",
     "text": [
      "¡Hola! Como asistente, mi objetivo es ayudarte a seguir las instrucciones y aclarar cualquier duda. En este caso, parece que estás hablando sobre el diseño y el Design Thinking en general.\n",
      "\n",
      "Me gustó cómo definiste la liminalidad como un estado crítico en el que se produce la innovación, cuando personas con diferentes disciplinas se encuentran y se producen fricciones entre ellas.\n",
      "\n",
      "También me llamó la atención la forma en que describías el papel de Steve Jobs en Apple, al crear una fricción liminar entre el diseño y la tecnología. Eso fue un momento clave para la empresa y su éxito.\n",
      "\n",
      "En cuanto a tu problema histórico con el Design Thinking, parece que estás preocupado por cómo algunas personas lo han implementado de manera incorrecta, como si fuera un plato maestro sin un cocinero liminal que lo entienda.\n",
      "\n",
      "Me gustaría saber más sobre tus ideas y experiencia en este campo. ¿Qué te parece si seguimos explorando la relación entre el diseño, la tecnología y la innovación?"
     ]
    }
   ],
   "source": [
    "stream = ollama.chat(\n",
    "    model=MODEL,\n",
    "    messages=[{'role': 'user', 'content': full_prompt}],\n",
    "    stream=True,\n",
    ")\n",
    "\n",
    "\n",
    "for chunk in stream:\n",
    "  print(chunk['message']['content'], end='', flush=True)"
   ]
  },
  {
   "cell_type": "code",
   "execution_count": null,
   "metadata": {},
   "outputs": [],
   "source": []
  }
 ],
 "metadata": {
  "kernelspec": {
   "display_name": "venv",
   "language": "python",
   "name": "python3"
  },
  "language_info": {
   "codemirror_mode": {
    "name": "ipython",
    "version": 3
   },
   "file_extension": ".py",
   "mimetype": "text/x-python",
   "name": "python",
   "nbconvert_exporter": "python",
   "pygments_lexer": "ipython3",
   "version": "3.11.3"
  }
 },
 "nbformat": 4,
 "nbformat_minor": 2
}
