{
 "cells": [
  {
   "cell_type": "markdown",
   "metadata": {},
   "source": [
    "# Meter los datos en la base de datos\n",
    "\n",
    "Puedes ejecutar este notebook desde la linea de comandos con:\n",
    "\n",
    "```bash\n",
    "pushd chat\n",
    "jupyter nbconvert --execute add_info_python.ipynb\n",
    "popd chat\n",
    "```"
   ]
  },
  {
   "cell_type": "code",
   "execution_count": 1,
   "metadata": {},
   "outputs": [
    {
     "name": "stdout",
     "output_type": "stream",
     "text": [
      "Inicializando chromadb\n"
     ]
    }
   ],
   "source": [
    "import os\n",
    "from tqdm import tqdm\n",
    "import sys\n",
    "import chromadb\n",
    "import chromadb.utils.embedding_functions as embedding_functions\n",
    "\n",
    "print(f\"Inicializando chromadb\")\n",
    "for i in tqdm(range(10)):\n",
    "    pass \n",
    "\n",
    "print(\"done\")\n",
    "sys.exit(1)\n",
    "print(\"continues\")\n",
    "chroma_client = chromadb.PersistentClient(path='db') # current folder\n",
    "llama3_embedding_function = embedding_functions.OllamaEmbeddingFunction(\n",
    "    url=\"http://localhost:11434/api/embeddings\", # ollama running in the background\n",
    "    model_name=\"llama3\",\n",
    ")\n",
    "\n",
    "collection_glossary = chroma_client.create_collection(name=\"glossary\",\n",
    "                                                      embedding_function=llama3_embedding_function)\n",
    "collection_turras = chroma_client.create_collection(name=\"turras\",\n",
    "                                                    embedding_function=llama3_embedding_function)\n"
   ]
  },
  {
   "cell_type": "code",
   "execution_count": 23,
   "metadata": {},
   "outputs": [
    {
     "name": "stderr",
     "output_type": "stream",
     "text": [
      "63it [00:00, 38819.03it/s]\n"
     ]
    }
   ],
   "source": [
    "import csv\n",
    "print(\"Glosario loader\")\n",
    "def glosario():\n",
    "    file_path = os.path.join(os.getcwd(), '..', 'db', 'glosario.csv')\n",
    "    \n",
    "    with open(file_path, mode='r', newline='', encoding='utf-8') as csvfile:\n",
    "        reader = csv.DictReader(csvfile, fieldnames=['word', 'definition', 'sources'], delimiter=',', quotechar='\"')\n",
    "        next(reader) # header\n",
    "        for row in reader:\n",
    "            yield {\n",
    "                'word': row['word'],\n",
    "                'definition': row['definition'],\n",
    "                'sources': row['sources'] or ''\n",
    "            }\n",
    "\n",
    "glos_documents = []\n",
    "glos_ids = []\n",
    "\n",
    "for item in tqdm(glosario()):\n",
    "    glos_documents.append(f\"{item['word']}: {item['definition']}\")\n",
    "    glos_ids.append(item['word'])"
   ]
  },
  {
   "cell_type": "code",
   "execution_count": 24,
   "metadata": {},
   "outputs": [],
   "source": [
    "collection_glossary.add(documents=glos_documents, ids=glos_ids)"
   ]
  },
  {
   "cell_type": "markdown",
   "metadata": {},
   "source": [
    "## Importar las turras"
   ]
  },
  {
   "cell_type": "code",
   "execution_count": 25,
   "metadata": {},
   "outputs": [],
   "source": [
    "import json\n",
    "import itertools\n",
    "print(f\"Turra loader\")\n",
    "\n",
    "def turras():\n",
    "    file_path = os.path.join(os.getcwd(), '..', 'db', 'tweets.json')\n",
    "    with open(file_path, mode='r', encoding='utf-8') as jsonfile:\n",
    "        turras = json.load(jsonfile)\n",
    "        total = len(turras)\n",
    "        for turra in tqdm(j):\n",
    "            url = \"https://turrero.vercel.app/turra/\" + turra['id']\n",
    "            completa = '\\n'.join(tuit for tuit in turra)\n",
    "            yield (url, completa)\n",
    "                \n",
    "urls_generator, completas_generator = itertools.tee(turras())"
   ]
  },
  {
   "cell_type": "code",
   "execution_count": null,
   "metadata": {},
   "outputs": [],
   "source": [
    "collection_turras.add({\n",
    "    'documents': (completa or _, completa in completas_generator),\n",
    "    'ids': (url for for url, _ in urls_generator),\n",
    "})"
   ]
  },
  {
   "cell_type": "code",
   "execution_count": null,
   "metadata": {},
   "outputs": [],
   "source": []
  }
 ],
 "metadata": {
  "kernelspec": {
   "display_name": "venv",
   "language": "python",
   "name": "python3"
  },
  "language_info": {
   "codemirror_mode": {
    "name": "ipython",
    "version": 3
   },
   "file_extension": ".py",
   "mimetype": "text/x-python",
   "name": "python",
   "nbconvert_exporter": "python",
   "pygments_lexer": "ipython3",
   "version": "3.11.3"
  }
 },
 "nbformat": 4,
 "nbformat_minor": 2
}
