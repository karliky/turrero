{
 "cells": [
  {
   "cell_type": "markdown",
   "metadata": {},
   "source": [
    "# Meter los datos en la base de datos\n",
    "\n",
    "Puedes ejecutar este notebook desde la linea de comandos con:\n",
    "\n",
    "```bash\n",
    "papermill --cwd ./chat -k python3 --no-log-output chat/add_info_python.ipynb /tmp/output.log.json\n",
    "```"
   ]
  },
  {
   "cell_type": "code",
   "execution_count": null,
   "metadata": {
    "execution": {
     "iopub.execute_input": "2024-06-26T10:51:36.556160Z",
     "iopub.status.busy": "2024-06-26T10:51:36.556024Z",
     "iopub.status.idle": "2024-06-26T10:51:37.729055Z",
     "shell.execute_reply": "2024-06-26T10:51:37.728354Z"
    }
   },
   "outputs": [],
   "source": [
    "import os\n",
    "from tqdm.notebook import tqdm\n",
    "import more_itertools\n",
    "import chromadb\n",
    "import chromadb.utils.embedding_functions as embedding_functions\n",
    "\n",
    "print(f\"Inicializando chromadb\")\n",
    "num_chunks = 7\n",
    "\n",
    "chroma_client = chromadb.PersistentClient(path='db') # current folder\n",
    "llama3_embedding_function = embedding_functions.OllamaEmbeddingFunction(\n",
    "    url=\"http://localhost:11434/api/embeddings\", # ollama running in the background\n",
    "    model_name=\"tinyllama\",\n",
    ")\n",
    "\n",
    "collection_glossary = chroma_client.get_or_create_collection(name=\"glossary\",\n",
    "                                                      embedding_function=llama3_embedding_function)\n",
    "collection_turras = chroma_client.get_or_create_collection(name=\"turras\",\n",
    "                                                    embedding_function=llama3_embedding_function)\n"
   ]
  },
  {
   "cell_type": "markdown",
   "metadata": {},
   "source": [
    "# Meter términos de glosario\n"
   ]
  },
  {
   "cell_type": "code",
   "execution_count": null,
   "metadata": {
    "execution": {
     "iopub.execute_input": "2024-06-26T10:51:37.760307Z",
     "iopub.status.busy": "2024-06-26T10:51:37.759995Z",
     "iopub.status.idle": "2024-06-26T10:51:37.768189Z",
     "shell.execute_reply": "2024-06-26T10:51:37.767723Z"
    }
   },
   "outputs": [],
   "source": [
    "import csv\n",
    "print(\"Glosario loader\")\n",
    "def glosario():\n",
    "    file_path = os.path.join(os.getcwd(), '..', 'db', 'glosario.csv')\n",
    "    \n",
    "    with open(file_path, mode='r', newline='', encoding='utf-8') as csvfile:\n",
    "        reader = csv.DictReader(csvfile, fieldnames=['word', 'definition', 'sources'], delimiter=',', quotechar='\"')\n",
    "        next(reader) # header\n",
    "        for row in reader:\n",
    "            yield {\n",
    "                'word': row['word'],\n",
    "                'definition': row['definition'],\n",
    "                'sources': row['sources'] or ''\n",
    "            }\n",
    "\n",
    "glos_documents = []\n",
    "glos_ids = []\n",
    "\n",
    "for item in glosario():\n",
    "    glos_documents.append(f\"{item['word']}: {item['definition']}\")\n",
    "    glos_ids.append(item['word'])\n",
    "    \n",
    "ids=list(more_itertools.chunked(glos_documents, num_chunks))\n",
    "docs=list(more_itertools.chunked(glos_ids, num_chunks))\n",
    "for ids, docs in tqdm(list(zip(ids, docs))):\n",
    "    collection_glossary.upsert(documents=glos_documents, ids=glos_ids)"
   ]
  },
  {
   "cell_type": "markdown",
   "metadata": {},
   "source": [
    "## Meter las turras"
   ]
  },
  {
   "cell_type": "code",
   "execution_count": null,
   "metadata": {
    "execution": {
     "iopub.execute_input": "2024-06-26T10:51:37.989360Z",
     "iopub.status.busy": "2024-06-26T10:51:37.989164Z",
     "iopub.status.idle": "2024-06-26T10:51:37.993585Z",
     "shell.execute_reply": "2024-06-26T10:51:37.992911Z"
    }
   },
   "outputs": [],
   "source": [
    "import json\n",
    "from pprint import pprint\n",
    "import os\n",
    "from tqdm import tqdm\n",
    "\n",
    "print(f\"Turra loader\")\n",
    "num_chunks = 7\n",
    "\n",
    "def turras():\n",
    "    urls = []\n",
    "    completas = []\n",
    "\n",
    "    with open(os.path.join(os.getcwd(), '..', 'db', 'tweets.json'), mode='r', encoding='utf-8') as jsonfile:\n",
    "        turras = json.load(jsonfile)\n",
    "        for turra in turras:\n",
    "            try:\n",
    "                i = str(turra[0]['id'])\n",
    "                urls.append(\"https://turrero.vercel.app/turra/\" + i)\n",
    "                completas.append('\\n'.join(tuit[\"tweet\"] for tuit in turra))\n",
    "            except Exception as e:\n",
    "                pprint(turra)\n",
    "                raise e\n",
    "    assert len(urls) == len(completas), \"Bug: no hay la misma cantidad de urls y turras\"\n",
    "    return (urls, completas)\n",
    "\n",
    "# Partirlo en cachos para poder ver la barrita llenarse, pues tarda mucho\n",
    "urls_list, turras_list = turras()\n",
    "\n",
    "urls_chunks = list(more_itertools.chunked(urls_list, num_chunks))\n",
    "turras_chunks = list(more_itertools.chunked(turras_list, num_chunks))\n",
    "batched = list(zip(urls_chunks, turras_chunks))\n",
    "\n",
    "for ids, docs in tqdm(batched):\n",
    "    collection_turras.upsert(\n",
    "        documents=docs,\n",
    "        ids=ids\n",
    "    )"
   ]
  },
  {
   "cell_type": "code",
   "execution_count": null,
   "metadata": {},
   "outputs": [],
   "source": []
  }
 ],
 "metadata": {
  "kernelspec": {
   "display_name": "venv",
   "language": "python",
   "name": "python3"
  },
  "language_info": {
   "codemirror_mode": {
    "name": "ipython",
    "version": 3
   },
   "file_extension": ".py",
   "mimetype": "text/x-python",
   "name": "python",
   "nbconvert_exporter": "python",
   "pygments_lexer": "ipython3",
   "version": "3.11.3"
  }
 },
 "nbformat": 4,
 "nbformat_minor": 2
}
