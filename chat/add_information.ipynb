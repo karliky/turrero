{
 "cells": [
  {
   "cell_type": "code",
   "execution_count": 8,
   "id": "157dab2f-563f-482b-926a-d8306721e890",
   "metadata": {},
   "outputs": [],
   "source": [
    "import { ChromaClient } from \"chromadb\";\n",
    "import fs from 'fs';\n",
    "import csv from 'csv-parser';\n",
    "import path from 'path';\n",
    "const client:ChromaClient  = new ChromaClient({ path: \"http://localhost:8000\" });\n"
   ]
  },
  {
   "cell_type": "code",
   "execution_count": 10,
   "id": "2084d5f0",
   "metadata": {},
   "outputs": [],
   "source": [
    "type Data = {\n",
    "    word: string\n",
    "    definition: string\n",
    "    sources?: string\n",
    "  }\n",
    "  \n",
    "  type GlossaryProps = {\n",
    "    data: Data[];\n",
    "  }"
   ]
  },
  {
   "cell_type": "code",
   "execution_count": 4,
   "id": "b8ceaeb0",
   "metadata": {},
   "outputs": [
    {
     "name": "stderr",
     "output_type": "stream",
     "text": [
      "3:5 - Argument of type '{ name: string; model_validate: boolean; }' is not assignable to parameter of type 'CreateCollectionParams'.\n",
      "3:5 - Object literal may only specify known properties, and 'model_validate' does not exist in type 'CreateCollectionParams'.\n"
     ]
    }
   ],
   "source": [
    "const collection = await client.getOrCreateCollection({\n",
    "    name: \"glosario\",\n",
    "    model_validate: false,\n",
    "});"
   ]
  },
  {
   "cell_type": "code",
   "execution_count": 18,
   "id": "99598468",
   "metadata": {},
   "outputs": [],
   "source": [
    "async function glosario() {\n",
    "    const results: Data[] = [];\n",
    "    const filePath = path.join(process.cwd(), 'db', 'glosario.csv');\n",
    "  \n",
    "    await new Promise((resolve, reject) => {\n",
    "      fs.createReadStream(filePath)\n",
    "        .pipe(csv({ separator: ',', escape: '\"', headers: ['word', 'definition', 'sources'] }))\n",
    "        .on('data', (data) => {\n",
    "          results.push({\n",
    "            word: data.word, definition: data.definition, sources: data.sources || ''\n",
    "          });\n",
    "        })\n",
    "        .on('end', () => {\n",
    "          resolve(results);\n",
    "        })\n",
    "        .on('error', (error: any) => {\n",
    "          reject(error);\n",
    "        });\n",
    "    });\n",
    "  \n",
    "    return results;\n",
    "  }"
   ]
  },
  {
   "cell_type": "code",
   "execution_count": 19,
   "id": "6cf2ea39",
   "metadata": {},
   "outputs": [],
   "source": [
    "const glos = await glosario();\n"
   ]
  },
  {
   "cell_type": "code",
   "execution_count": 21,
   "id": "1364d061",
   "metadata": {},
   "outputs": [
    {
     "name": "stdout",
     "output_type": "stream",
     "text": [
      "{\n",
      "  word: \u001b[32m'Antifrágil'\u001b[39m,\n",
      "  definition: \u001b[32m'Habilidad de un sistema para fortalecerse y evolucionar debido al estrés, la volatilidad y los retos enfrentados.'\u001b[39m,\n",
      "  sources: \u001b[32m''\u001b[39m\n",
      "}\n"
     ]
    }
   ],
   "source": [
    "glos[0]"
   ]
  },
  {
   "cell_type": "code",
   "execution_count": null,
   "id": "d1c3c3c8",
   "metadata": {},
   "outputs": [],
   "source": [
    "await collection.add({\n",
    "    documents: [\n",
    "        \"This is a document about pineapple\",\n",
    "        \"This is a document about oranges\"\n",
    "    ],\n",
    "    ids: [\"id1\", \"id2\"],\n",
    "});"
   ]
  }
 ],
 "metadata": {
  "kernelspec": {
   "display_name": "TypeScript",
   "language": "typescript",
   "name": "tslab"
  },
  "language_info": {
   "codemirror_mode": {
    "mode": "typescript",
    "name": "javascript",
    "typescript": true
   },
   "file_extension": ".ts",
   "mimetype": "text/typescript",
   "name": "typescript",
   "version": "3.7.2"
  }
 },
 "nbformat": 4,
 "nbformat_minor": 5
}
